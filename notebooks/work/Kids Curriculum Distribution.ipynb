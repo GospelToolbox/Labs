{
 "cells": [
  {
   "cell_type": "code",
   "execution_count": null,
   "metadata": {},
   "outputs": [],
   "source": [
    "require 'pco_api'\n",
    "\n",
    "token = ENV['PCO_API_TOKEN']\n",
    "secret = ENV['PCO_API_SECRET']\n",
    "\n",
    "api = PCO::API.new(basic_auth_token: token, basic_auth_secret: secret)\n",
    "\n",
    "require 'sqlite3'\n",
    "\n",
    "# Open a database\n",
    "db = SQLite3::Database.new \"kids.db\"\n",
    "\n",
    "nil"
   ]
  },
  {
   "cell_type": "markdown",
   "metadata": {},
   "source": [
    "## Load Service Types"
   ]
  },
  {
   "cell_type": "code",
   "execution_count": null,
   "metadata": {},
   "outputs": [],
   "source": [
    "# db.execute <<-SQL\n",
    "# drop table song_schedules;\n",
    "# SQL\n",
    "\n",
    "# Create table for arrangements\n",
    "db.execute <<-SQL\n",
    "  create table service_types (\n",
    "    id varchar(20),\n",
    "    name varchar(50)\n",
    "  );\n",
    "SQL\n",
    "\n",
    "nil"
   ]
  },
  {
   "cell_type": "code",
   "execution_count": null,
   "metadata": {},
   "outputs": [],
   "source": [
    "  offset = 0\n",
    "  per_page = 100\n",
    "  fetch_more = true\n",
    "\n",
    "  while fetch_more\n",
    "\n",
    "    response = api.services.v2.service_types.get(offset: offset, per_page: per_page)\n",
    "\n",
    "    data = response[\"data\"]\n",
    "\n",
    "    data.each do |service_type|\n",
    "      id = service_type['id']\n",
    "      attrs = service_type['attributes']\n",
    "      \n",
    "      name = attrs['name']\n",
    "      \n",
    "      db.execute \"insert into service_types values ( ?, ?)\", [id, name]\n",
    "    end\n",
    "    \n",
    "    fetch_more = data.length == per_page\n",
    "    offset = offset + per_page\n",
    "  end"
   ]
  },
  {
   "cell_type": "code",
   "execution_count": null,
   "metadata": {},
   "outputs": [],
   "source": [
    "# Find a few rows\n",
    "db.execute( \"select * from service_types\" ) do |row|\n",
    "  p row\n",
    "end\n",
    "\n",
    "nil"
   ]
  },
  {
   "cell_type": "markdown",
   "metadata": {},
   "source": [
    "## Load Plans"
   ]
  },
  {
   "cell_type": "code",
   "execution_count": null,
   "metadata": {},
   "outputs": [],
   "source": [
    "# db.execute <<-SQL\n",
    "# drop table song_schedules;\n",
    "# SQL\n",
    "\n",
    "# Create table for arrangements\n",
    "db.execute <<-SQL\n",
    "  create table plans (\n",
    "    id varchar(20),\n",
    "    service_type_id varchar(20),\n",
    "    dates text\n",
    "  );\n",
    "SQL\n",
    "\n",
    "nil"
   ]
  },
  {
   "cell_type": "code",
   "execution_count": null,
   "metadata": {},
   "outputs": [],
   "source": [
    "require 'date'\n",
    "db.execute( \"delete from plans\" )\n",
    "\n",
    "# Load service types from PCO\n",
    "db.execute( \"select id from service_types\" ) do |row|\n",
    "  \n",
    "  service_type_id = row[0]\n",
    "  offset = 0\n",
    "  per_page = 100\n",
    "  fetch_more = true\n",
    "\n",
    "  while fetch_more\n",
    "\n",
    "    response = api.services.v2.service_types[service_type_id.to_i].plans.get(offset: offset, per_page: per_page)\n",
    "\n",
    "    data = response[\"data\"]\n",
    "\n",
    "    data.each do |plan|\n",
    "      id = plan['id']\n",
    "      attrs = plan['attributes']\n",
    "      rel = plan['relationships']\n",
    "        \n",
    "      dates = attrs['dates'] == 'No dates' ? nil : Date.strptime(attrs['dates'], '%B %d, %Y')\n",
    "      short_dates = attrs['short_dates']\n",
    "      \n",
    "      db.execute \"insert into plans values ( ?, ?, ?)\", [id, service_type_id, dates.to_s]\n",
    "    end\n",
    "    \n",
    "    fetch_more = data.length == per_page\n",
    "    offset = offset + per_page\n",
    "  end\n",
    "end\n",
    "\n",
    "\n",
    "nil"
   ]
  },
  {
   "cell_type": "code",
   "execution_count": null,
   "metadata": {},
   "outputs": [],
   "source": [
    "# Find a few rows\n",
    "db.execute( \"select * from plans\" ) do |row|\n",
    "  p row\n",
    "end\n",
    "\n",
    "nil"
   ]
  },
  {
   "cell_type": "markdown",
   "metadata": {},
   "source": [
    "## Load Scheduled People"
   ]
  },
  {
   "cell_type": "code",
   "execution_count": null,
   "metadata": {},
   "outputs": [],
   "source": [
    "db.execute <<-SQL\n",
    "drop table people;\n",
    "SQL\n",
    "\n",
    "# Create table for arrangements\n",
    "db.execute <<-SQL\n",
    "  create table people (\n",
    "    id varchar(20),\n",
    "    first_name text,\n",
    "    last_name text,\n",
    "    status text,\n",
    "    photo_url text,\n",
    "    photo_thumbnail_url\n",
    "  );\n",
    "SQL\n",
    "\n",
    "nil"
   ]
  },
  {
   "cell_type": "code",
   "execution_count": null,
   "metadata": {},
   "outputs": [],
   "source": [
    "\n",
    "offset = 0\n",
    "per_page = 100\n",
    "fetch_more = true\n",
    "\n",
    "while fetch_more\n",
    "\n",
    "  response = api.services.v2.people.get(offset: offset, per_page: per_page)\n",
    "\n",
    "  data = response[\"data\"]\n",
    "\n",
    "  data.each do |plan|\n",
    "    id = plan['id']\n",
    "    attrs = plan['attributes']\n",
    "    rel = plan['relationships']\n",
    "    \n",
    "    first_name = attrs['first_name']\n",
    "    last_name = attrs['last_name']\n",
    "    status = attrs['status']\n",
    "    photo_url = attrs['photo_url']\n",
    "    photo_thumbnail_url = attrs['photo_thumbnail_url']\n",
    "    \n",
    "    db.execute \"insert into people values ( ?, ?, ?, ?, ?, ?)\",\n",
    "      [id, first_name, last_name, status, photo_url, photo_thumbnail_url]\n",
    "  end\n",
    "\n",
    "  fetch_more = data.length == per_page\n",
    "  offset = offset + per_page\n",
    "end\n",
    "\n",
    "\n",
    "\n",
    "nil"
   ]
  },
  {
   "cell_type": "code",
   "execution_count": null,
   "metadata": {},
   "outputs": [],
   "source": [
    "# Find a few rows\n",
    "db.execute( \"select * from people\" ) do |row|\n",
    "  p row\n",
    "end\n",
    "\n",
    "nil"
   ]
  },
  {
   "cell_type": "markdown",
   "metadata": {},
   "source": [
    "## Load People Emails"
   ]
  },
  {
   "cell_type": "code",
   "execution_count": null,
   "metadata": {},
   "outputs": [],
   "source": [
    "# db.execute <<-SQL\n",
    "# drop table person_emails;\n",
    "# SQL\n",
    "\n",
    "# Create table for arrangements\n",
    "db.execute <<-SQL\n",
    "  create table person_emails (\n",
    "    id varchar(20),\n",
    "    person_id varchar(20),\n",
    "    address text,\n",
    "    location text,\n",
    "    \"primary\" integer\n",
    "  );\n",
    "SQL\n",
    "\n",
    "nil"
   ]
  },
  {
   "cell_type": "code",
   "execution_count": null,
   "metadata": {},
   "outputs": [],
   "source": [
    "#db.execute( \"delete from person_emails\" )\n",
    "\n",
    "# Load service types from PCO\n",
    "db.execute( \"select id from people\" ) do |row|\n",
    "  \n",
    "  person_id = row[0]\n",
    "  offset = 0\n",
    "  per_page = 100\n",
    "  fetch_more = true\n",
    "\n",
    "  while fetch_more\n",
    "\n",
    "    response = api.people.v2.people[person_id.to_s].emails.get(offset: offset, per_page: per_page)\n",
    "\n",
    "    data = response[\"data\"]\n",
    "\n",
    "    data.each do |plan|\n",
    "      id = plan['id']\n",
    "      attrs = plan['attributes']\n",
    "      rel = plan['relationships']\n",
    "      \n",
    "      address = attrs['address']\n",
    "      location = attrs['location']\n",
    "      primary = attrs['primary']\n",
    "      \n",
    "      values = [id, person_id, address, location, primary ? 1 : 0]\n",
    "        \n",
    "      \n",
    "      db.execute \"insert into person_emails values ( ?, ?, ?, ?, ?)\", values\n",
    "    end\n",
    "    \n",
    "    fetch_more = data.length == per_page\n",
    "    offset = offset + per_page\n",
    "  end\n",
    "end\n",
    "\n",
    "\n",
    "nil"
   ]
  },
  {
   "cell_type": "code",
   "execution_count": null,
   "metadata": {},
   "outputs": [],
   "source": [
    "# Find a few rows\n",
    "db.execute( \"select * from person_emails\" ) do |row|\n",
    "  p row\n",
    "end\n",
    "\n",
    "nil"
   ]
  },
  {
   "cell_type": "markdown",
   "metadata": {},
   "source": [
    "## Load Plan People"
   ]
  },
  {
   "cell_type": "code",
   "execution_count": null,
   "metadata": {},
   "outputs": [],
   "source": [
    "# db.execute <<-SQL\n",
    "# drop table plan_people;\n",
    "# SQL\n",
    "\n",
    "# Create table for arrangements\n",
    "db.execute <<-SQL\n",
    "  create table plan_people (\n",
    "    id varchar(20),\n",
    "    plan_id varchar(20),\n",
    "    service_type_id varchar(20),\n",
    "    person_id varchar(20),\n",
    "    team_id varchar(20),\n",
    "    team_position_name text,\n",
    "    status char(1),\n",
    "    prepare_notification int,\n",
    "    notification_sent_at text\n",
    "  );\n",
    "SQL\n",
    "\n",
    "nil"
   ]
  },
  {
   "cell_type": "code",
   "execution_count": null,
   "metadata": {},
   "outputs": [],
   "source": [
    "#require 'date'\n",
    "#db.execute( \"delete from plan_people\" )\n",
    "\n",
    "# Load service types from PCO\n",
    "db.execute( \"select id, service_type_id from plans\" ) do |row|\n",
    "  \n",
    "  plan_id = row[0]\n",
    "  service_type_id = row[1]\n",
    "  offset = 0\n",
    "  per_page = 100\n",
    "  fetch_more = true\n",
    "\n",
    "  while fetch_more\n",
    "\n",
    "    response = api.services.v2.service_types[service_type_id.to_i].plans[plan_id.to_i].team_members.get(offset: offset, per_page: per_page)\n",
    "\n",
    "    data = response[\"data\"]\n",
    "\n",
    "    data.each do |plan_person|\n",
    "      id = plan_person['id']\n",
    "      attrs = plan_person['attributes']\n",
    "      rel = plan_person['relationships']\n",
    "    \n",
    "      notification_sent_at = attrs['notification_sent_at']\n",
    "      prepare_notification = attrs['prepare_notification'] ? 1 : 0\n",
    "      status = attrs['status']\n",
    "      team_position_name = attrs['team_position_name']\n",
    "      \n",
    "      person_id = rel.dig('person', 'data', 'id')\n",
    "      team_id = rel.dig('team', 'data', 'id')\n",
    "      \n",
    "      values = [id, plan_id, service_type_id, person_id, team_id, team_position_name, status, prepare_notification, notification_sent_at]\n",
    "      \n",
    "      db.execute \"insert into plan_people values ( ?, ?, ?, ?, ?, ?, ?, ?, ?)\", values\n",
    "    end\n",
    "    \n",
    "    fetch_more = data.length == per_page\n",
    "    offset = offset + per_page\n",
    "  end\n",
    "end\n",
    "\n",
    "\n",
    "nil"
   ]
  },
  {
   "cell_type": "code",
   "execution_count": null,
   "metadata": {},
   "outputs": [],
   "source": [
    "# Find a few rows\n",
    "db.execute( \"select * from plan_people\" ) do |row|\n",
    "  p row\n",
    "end\n",
    "\n",
    "nil"
   ]
  },
  {
   "cell_type": "markdown",
   "metadata": {},
   "source": [
    "## Put it all together..."
   ]
  },
  {
   "cell_type": "code",
   "execution_count": null,
   "metadata": {},
   "outputs": [],
   "source": [
    "query = <<-SQL\n",
    "  SELECT DISTINCT\n",
    "    people.first_name,\n",
    "    people.last_name,\n",
    "    pp.team_position_name,\n",
    "    pp.status,\n",
    "    pe.address\n",
    "  FROM\n",
    "    plan_people pp\n",
    "    LEFT JOIN plans p on p.id = pp.plan_id\n",
    "    LEFT JOIN people people on people.id = pp.person_id\n",
    "    LEFT JOIN person_emails pe on pe.person_id = pp.person_id\n",
    "  WHERE\n",
    "    p.service_type_id = \"645713\"\n",
    "    AND p.dates = \"2018-09-02\"\n",
    "SQL\n",
    "\n",
    "db.execute( query ) do |row|\n",
    "  p row\n",
    "end\n",
    "\n",
    "nil"
   ]
  }
 ],
 "metadata": {
  "kernelspec": {
   "display_name": "Ruby 2.5.1",
   "language": "ruby",
   "name": "ruby"
  },
  "language_info": {
   "file_extension": ".rb",
   "mimetype": "application/x-ruby",
   "name": "ruby",
   "version": "2.5.1"
  }
 },
 "nbformat": 4,
 "nbformat_minor": 2
}
