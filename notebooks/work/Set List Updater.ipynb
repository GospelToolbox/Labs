{
 "cells": [
  {
   "cell_type": "markdown",
   "metadata": {},
   "source": [
    "# Load the data"
   ]
  },
  {
   "cell_type": "code",
   "execution_count": null,
   "metadata": {},
   "outputs": [],
   "source": [
    "require 'yaml'\n",
    "require 'sqlite3'\n",
    "\n",
    "setlists_yaml = File.read('setlist.yml')\n",
    "setlists = YAML.load(setlists_yaml)\n",
    "\n",
    "# Open a database\n",
    "db = SQLite3::Database.new \"songs.db\"\n",
    "\n",
    "nil\n"
   ]
  },
  {
   "cell_type": "markdown",
   "metadata": {},
   "source": [
    "# Map the songs to their IDs"
   ]
  },
  {
   "cell_type": "code",
   "execution_count": null,
   "metadata": {},
   "outputs": [],
   "source": [
    "songs = setlists.flat_map { |i| i }.uniq\n",
    "\n",
    "select_song = <<-SQL\n",
    "  SELECT\n",
    "    s.title,\n",
    "    s.id,\n",
    "    a.id\n",
    "  FROM\n",
    "    songs s\n",
    "    LEFT JOIN arrangements a on a.song_id = s.id\n",
    "  WHERE\n",
    "    s.title = ?\n",
    "SQL\n",
    "\n",
    "songs_from_db = songs.map do |song_title|\n",
    "  result = db.get_first_row(select_song, song_title )\n",
    "  puts \"Missing song: #{song_title}\" unless result\n",
    "  result\n",
    "end\n"
   ]
  },
  {
   "cell_type": "markdown",
   "metadata": {},
   "source": [
    "# Connect to services"
   ]
  },
  {
   "cell_type": "code",
   "execution_count": null,
   "metadata": {},
   "outputs": [],
   "source": [
    "require 'pco_api'\n",
    "\n",
    "token =  ENV['PCO_API_TOKEN']\n",
    "secret = ENV['PCO_API_SECRET']\n",
    "\n",
    "api = PCO::API.new(basic_auth_token: token, basic_auth_secret: secret)\n",
    "\n",
    "nil"
   ]
  },
  {
   "cell_type": "markdown",
   "metadata": {},
   "source": [
    "# Get weeks to update"
   ]
  },
  {
   "cell_type": "code",
   "execution_count": null,
   "metadata": {},
   "outputs": [],
   "source": [
    "initial_week = '2021-08-01'\n",
    "num_weeks = setlists.length\n",
    "\n",
    "get_services = <<-SQL\n",
    "  SELECT\n",
    "    p.id, st.id, p.dates\n",
    "  FROM\n",
    "    plans p\n",
    "    LEFT JOIN service_types st on st.id = p.service_type_id\n",
    "  WHERE\n",
    "    st.name = \"Sunday Morning Worship\"\n",
    "    AND\n",
    "    p.dates >= ?\n",
    "  ORDER BY \n",
    "    p.dates asc\n",
    "  LIMIT ?\n",
    "SQL\n",
    "\n",
    "services = db.execute(get_services, initial_week, num_weeks)\n"
   ]
  },
  {
   "cell_type": "markdown",
   "metadata": {},
   "source": [
    "# Update Weeks"
   ]
  },
  {
   "cell_type": "code",
   "execution_count": null,
   "metadata": {},
   "outputs": [],
   "source": [
    "services.each_with_index do |service, service_index|\n",
    "  p service[2]\n",
    "  \n",
    "  # Get song plan items\n",
    "  plan_songs_sql = <<-SQL\n",
    "  SELECT\n",
    "    *\n",
    "  FROM\n",
    "    plan_items pi\n",
    "  WHERE\n",
    "    pi.plan_id = ?\n",
    "    AND\n",
    "    pi.item_type = \"item\"\n",
    "    AND\n",
    "    pi.title LIKE 'Song%'\n",
    "SQL\n",
    "  \n",
    "  set = setlists[service_index]\n",
    "  \n",
    "  plan_songs = db.execute(plan_songs_sql, service[0])\n",
    "  \n",
    "  # Update song plan items\n",
    "  \n",
    "  plan_songs.each_with_index do |song, song_index|\n",
    "    set_song = set[song_index]\n",
    "    db_song = songs_from_db.find { |song| song[0] == set_song}\n",
    "    \n",
    "    if set_song\n",
    "      puts \"\\\"#{song[2]}\\\" becomes \\\"#{set_song}(#{db_song[1]}, #{db_song[2]})\\\"\"\n",
    "      data = { \n",
    "        attributes: {\n",
    "          title: set_song, \n",
    "          song_id: db_song[1],\n",
    "          arrangement_id: db_song[2]\n",
    "        }\n",
    "      }\n",
    "      #api.services.v2.service_types[service[1].to_i].plans[service[0].to_i].items[song[0].to_i].patch(data: data)\n",
    "    end\n",
    "    \n",
    "\n",
    "  end\n",
    "end\n",
    "\n",
    "nil"
   ]
  },
  {
   "cell_type": "code",
   "execution_count": null,
   "metadata": {},
   "outputs": [],
   "source": []
  },
  {
   "cell_type": "code",
   "execution_count": null,
   "metadata": {},
   "outputs": [],
   "source": []
  }
 ],
 "metadata": {
  "kernelspec": {
   "display_name": "Ruby 2.7.0",
   "language": "ruby",
   "name": "ruby"
  },
  "language_info": {
   "file_extension": ".rb",
   "mimetype": "application/x-ruby",
   "name": "ruby",
   "version": "2.7.0"
  }
 },
 "nbformat": 4,
 "nbformat_minor": 2
}
